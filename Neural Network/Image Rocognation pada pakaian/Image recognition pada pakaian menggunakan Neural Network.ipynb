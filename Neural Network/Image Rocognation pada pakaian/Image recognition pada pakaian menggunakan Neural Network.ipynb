{
 "cells": [
  {
   "cell_type": "code",
   "execution_count": 1,
   "id": "fa615e20",
   "metadata": {},
   "outputs": [
    {
     "data": {
      "text/plain": [
       "device(type='cpu')"
      ]
     },
     "execution_count": 1,
     "metadata": {},
     "output_type": "execute_result"
    }
   ],
   "source": [
    "import torch\n",
    "from torch import nn, optim\n",
    "from jcopdl.callback import Callback, set_config\n",
    "\n",
    "device = torch.device(\"cuda\" if torch.cuda.is_available() else \"cpu\")\n",
    "device"
   ]
  },
  {
   "cell_type": "markdown",
   "id": "845e381d",
   "metadata": {},
   "source": [
    "## Dataset & Dataloader"
   ]
  },
  {
   "cell_type": "code",
   "execution_count": 2,
   "id": "ac4c136b",
   "metadata": {},
   "outputs": [],
   "source": [
    "from torchvision import datasets, transforms\n",
    "from torch.utils.data import DataLoader"
   ]
  },
  {
   "cell_type": "code",
   "execution_count": 3,
   "id": "3d1090b6",
   "metadata": {},
   "outputs": [],
   "source": [
    "bs=128\n",
    "\n",
    "transform = transforms.Compose([\n",
    "    transforms.\n",
    "    transforms.Grayscale(),\n",
    "    transforms.ToTensor()\n",
    "])\n",
    "\n",
    "train_set = datasets.ImageFolder(\"data/train/\", transform=transform)\n",
    "trainloader = DataLoader(train_set, batch_size=bs, shuffle=True, num_workers=2)\n",
    "\n",
    "test_set = datasets.ImageFolder(\"data/test/\", transform=transform)\n",
    "testloader = DataLoader(test_set, batch_size=bs, shuffle=True, num_workers=2)"
   ]
  },
  {
   "cell_type": "code",
   "execution_count": 4,
   "id": "32c40956",
   "metadata": {},
   "outputs": [
    {
     "data": {
      "text/plain": [
       "Dataset ImageFolder\n",
       "    Number of datapoints: 40000\n",
       "    Root location: data/train/\n",
       "    StandardTransform\n",
       "Transform: Compose(\n",
       "               Grayscale(num_output_channels=1)\n",
       "               ToTensor()\n",
       "           )"
      ]
     },
     "execution_count": 4,
     "metadata": {},
     "output_type": "execute_result"
    }
   ],
   "source": [
    "train_set"
   ]
  },
  {
   "cell_type": "markdown",
   "id": "9e42361b",
   "metadata": {},
   "source": [
    "[N, C, H, W]"
   ]
  },
  {
   "cell_type": "code",
   "execution_count": 29,
   "id": "8c6e0071",
   "metadata": {},
   "outputs": [
    {
     "data": {
      "text/plain": [
       "torch.Size([128, 1, 28, 28])"
      ]
     },
     "execution_count": 29,
     "metadata": {},
     "output_type": "execute_result"
    }
   ],
   "source": [
    "feature, target = next(iter(trainloader))\n",
    "feature.shape"
   ]
  },
  {
   "cell_type": "code",
   "execution_count": 25,
   "id": "853668b7",
   "metadata": {},
   "outputs": [],
   "source": [
    "label2cat = train_set.classes"
   ]
  },
  {
   "cell_type": "markdown",
   "id": "7d2da352",
   "metadata": {},
   "source": [
    "## Arsitektur & Config"
   ]
  },
  {
   "cell_type": "code",
   "execution_count": 7,
   "id": "45065b32",
   "metadata": {},
   "outputs": [],
   "source": [
    "from jcopdl.layers import linear_block"
   ]
  },
  {
   "cell_type": "code",
   "execution_count": 8,
   "id": "18b475bd",
   "metadata": {},
   "outputs": [],
   "source": [
    "class FashionClassifier(nn.Module):\n",
    "    def __init__(self, input_size, n1, n2, output_size, dropout=0.2):\n",
    "        super().__init__()\n",
    "        self.fc = nn.Sequential(\n",
    "            nn.Flatten(),\n",
    "            \n",
    "            linear_block(input_size, n1, dropout=dropout),\n",
    "            \n",
    "            linear_block(n1, n2, dropout=dropout),\n",
    "            \n",
    "            linear_block(n2, output_size, activation=\"lsoftmax\")\n",
    "        )\n",
    "        \n",
    "    def forward(self, x):\n",
    "        return self.fc(x)"
   ]
  },
  {
   "cell_type": "code",
   "execution_count": 9,
   "id": "34962531",
   "metadata": {},
   "outputs": [],
   "source": [
    "config = set_config({\n",
    "    \"input_size\" : 784,\n",
    "    \"n1\" : 256,\n",
    "    \"n2\" : 64,\n",
    "    \"output_size\" : len(train_set.classes),\n",
    "    \"dropout\" : 0.2\n",
    "})"
   ]
  },
  {
   "cell_type": "markdown",
   "id": "02950106",
   "metadata": {},
   "source": [
    "## Training Preparation => MCOC"
   ]
  },
  {
   "cell_type": "code",
   "execution_count": 10,
   "id": "5fc71149",
   "metadata": {},
   "outputs": [],
   "source": [
    "model = FashionClassifier(config.input_size, config.n1, config.n2, config.output_size, config.dropout).to(device)\n",
    "criterion = nn.NLLLoss()\n",
    "optimizer = optim.AdamW(model.parameters(), lr=0.001)\n",
    "\n",
    "callback = Callback(model, config, outdir=\"model\")"
   ]
  },
  {
   "cell_type": "markdown",
   "id": "14ac5da4",
   "metadata": {},
   "source": [
    "## Training"
   ]
  },
  {
   "cell_type": "code",
   "execution_count": 11,
   "id": "7cfe84f3",
   "metadata": {},
   "outputs": [],
   "source": [
    "from tqdm.auto import tqdm"
   ]
  },
  {
   "cell_type": "code",
   "execution_count": 12,
   "id": "b7c978d9",
   "metadata": {},
   "outputs": [],
   "source": [
    "def loop_fn(mode, dataset, dataloader, model, criterion, optimizer, device):\n",
    "    if mode == \"train\":\n",
    "        model.train()\n",
    "    elif mode == \"test\":\n",
    "        model.eval()\n",
    "    cost = correct = 0\n",
    "\n",
    "    for feature, target in tqdm(dataloader, desc=mode.title()):\n",
    "        feature, target = feature.to(device), target.to(device)\n",
    "        # feedforward\n",
    "        output = model(feature)\n",
    "        # hitung cost\n",
    "        loss = criterion(output, target)\n",
    "        \n",
    "        if mode == \"train\":\n",
    "            # backprop\n",
    "            loss.backward()\n",
    "            # update weight\n",
    "            optimizer.step()\n",
    "            optimizer.zero_grad()\n",
    "        \n",
    "        cost += loss.item() * feature.shape[0]\n",
    "        correct += (output.argmax(1) == target).sum().item()\n",
    "        \n",
    "    cost = cost / len(dataset)\n",
    "    acc = correct / len(dataset)\n",
    "    return cost, acc"
   ]
  },
  {
   "cell_type": "code",
   "execution_count": 13,
   "id": "01ec3653",
   "metadata": {},
   "outputs": [
    {
     "data": {
      "application/vnd.jupyter.widget-view+json": {
       "model_id": "8afa6492f9e74767a3423067f91f79f9",
       "version_major": 2,
       "version_minor": 0
      },
      "text/plain": [
       "HBox(children=(FloatProgress(value=0.0, description='Train', max=313.0, style=ProgressStyle(description_width=…"
      ]
     },
     "metadata": {},
     "output_type": "display_data"
    },
    {
     "name": "stdout",
     "output_type": "stream",
     "text": [
      "\n"
     ]
    },
    {
     "data": {
      "application/vnd.jupyter.widget-view+json": {
       "model_id": "fc84e1789ffa49b59fabb8c3d5313eae",
       "version_major": 2,
       "version_minor": 0
      },
      "text/plain": [
       "HBox(children=(FloatProgress(value=0.0, description='Test', max=157.0, style=ProgressStyle(description_width='…"
      ]
     },
     "metadata": {},
     "output_type": "display_data"
    },
    {
     "name": "stdout",
     "output_type": "stream",
     "text": [
      "\n",
      "\n",
      "Epoch     1\n",
      "Train_cost  = 0.7212 | Test_cost  = 0.4660 | Train_score = 0.7466 | Test_score = 0.8287 |\n"
     ]
    },
    {
     "data": {
      "application/vnd.jupyter.widget-view+json": {
       "model_id": "d5a4292478dd41d9b48cc1140005dc26",
       "version_major": 2,
       "version_minor": 0
      },
      "text/plain": [
       "HBox(children=(FloatProgress(value=0.0, description='Train', max=313.0, style=ProgressStyle(description_width=…"
      ]
     },
     "metadata": {},
     "output_type": "display_data"
    },
    {
     "name": "stdout",
     "output_type": "stream",
     "text": [
      "\n"
     ]
    },
    {
     "data": {
      "application/vnd.jupyter.widget-view+json": {
       "model_id": "c40c86590041497d94d59ef8b5d7677b",
       "version_major": 2,
       "version_minor": 0
      },
      "text/plain": [
       "HBox(children=(FloatProgress(value=0.0, description='Test', max=157.0, style=ProgressStyle(description_width='…"
      ]
     },
     "metadata": {},
     "output_type": "display_data"
    },
    {
     "name": "stdout",
     "output_type": "stream",
     "text": [
      "\n",
      "\n",
      "Epoch     2\n",
      "Train_cost  = 0.4724 | Test_cost  = 0.4115 | Train_score = 0.8332 | Test_score = 0.8471 |\n"
     ]
    },
    {
     "data": {
      "application/vnd.jupyter.widget-view+json": {
       "model_id": "25891e7aa04344139ee8e7cae0495259",
       "version_major": 2,
       "version_minor": 0
      },
      "text/plain": [
       "HBox(children=(FloatProgress(value=0.0, description='Train', max=313.0, style=ProgressStyle(description_width=…"
      ]
     },
     "metadata": {},
     "output_type": "display_data"
    },
    {
     "name": "stdout",
     "output_type": "stream",
     "text": [
      "\n"
     ]
    },
    {
     "data": {
      "application/vnd.jupyter.widget-view+json": {
       "model_id": "433549430ea44f35a5f0d06c241a7525",
       "version_major": 2,
       "version_minor": 0
      },
      "text/plain": [
       "HBox(children=(FloatProgress(value=0.0, description='Test', max=157.0, style=ProgressStyle(description_width='…"
      ]
     },
     "metadata": {},
     "output_type": "display_data"
    },
    {
     "name": "stdout",
     "output_type": "stream",
     "text": [
      "\n",
      "\n",
      "Epoch     3\n",
      "Train_cost  = 0.4239 | Test_cost  = 0.3728 | Train_score = 0.8485 | Test_score = 0.8642 |\n"
     ]
    },
    {
     "data": {
      "application/vnd.jupyter.widget-view+json": {
       "model_id": "8d9cfb5345a0415899cb6b79c7c2d5e0",
       "version_major": 2,
       "version_minor": 0
      },
      "text/plain": [
       "HBox(children=(FloatProgress(value=0.0, description='Train', max=313.0, style=ProgressStyle(description_width=…"
      ]
     },
     "metadata": {},
     "output_type": "display_data"
    },
    {
     "name": "stdout",
     "output_type": "stream",
     "text": [
      "\n"
     ]
    },
    {
     "data": {
      "application/vnd.jupyter.widget-view+json": {
       "model_id": "8134d4b4da574c4ea3fa1d820e427167",
       "version_major": 2,
       "version_minor": 0
      },
      "text/plain": [
       "HBox(children=(FloatProgress(value=0.0, description='Test', max=157.0, style=ProgressStyle(description_width='…"
      ]
     },
     "metadata": {},
     "output_type": "display_data"
    },
    {
     "name": "stdout",
     "output_type": "stream",
     "text": [
      "\n",
      "\n",
      "Epoch     4\n",
      "Train_cost  = 0.3899 | Test_cost  = 0.3669 | Train_score = 0.8609 | Test_score = 0.8632 |\n",
      "\u001b[31m==> EarlyStop patience =  1 | Best test_score: 0.8642\u001b[0m\n"
     ]
    },
    {
     "data": {
      "application/vnd.jupyter.widget-view+json": {
       "model_id": "b2b34219c12d417bb3dca5a0152e81b2",
       "version_major": 2,
       "version_minor": 0
      },
      "text/plain": [
       "HBox(children=(FloatProgress(value=0.0, description='Train', max=313.0, style=ProgressStyle(description_width=…"
      ]
     },
     "metadata": {},
     "output_type": "display_data"
    },
    {
     "name": "stdout",
     "output_type": "stream",
     "text": [
      "\n"
     ]
    },
    {
     "data": {
      "application/vnd.jupyter.widget-view+json": {
       "model_id": "589f61887bc549f7b6063319f646ef7b",
       "version_major": 2,
       "version_minor": 0
      },
      "text/plain": [
       "HBox(children=(FloatProgress(value=0.0, description='Test', max=157.0, style=ProgressStyle(description_width='…"
      ]
     },
     "metadata": {},
     "output_type": "display_data"
    },
    {
     "name": "stdout",
     "output_type": "stream",
     "text": [
      "\n",
      "\n",
      "Epoch     5\n",
      "Train_cost  = 0.3670 | Test_cost  = 0.3521 | Train_score = 0.8687 | Test_score = 0.8682 |\n"
     ]
    },
    {
     "data": {
      "application/vnd.jupyter.widget-view+json": {
       "model_id": "5a8ea707fb1241d884b8f5bfd3e7da32",
       "version_major": 2,
       "version_minor": 0
      },
      "text/plain": [
       "HBox(children=(FloatProgress(value=0.0, description='Train', max=313.0, style=ProgressStyle(description_width=…"
      ]
     },
     "metadata": {},
     "output_type": "display_data"
    },
    {
     "name": "stdout",
     "output_type": "stream",
     "text": [
      "\n"
     ]
    },
    {
     "data": {
      "application/vnd.jupyter.widget-view+json": {
       "model_id": "f09c96e789a148a2bdd8eda3036049c9",
       "version_major": 2,
       "version_minor": 0
      },
      "text/plain": [
       "HBox(children=(FloatProgress(value=0.0, description='Test', max=157.0, style=ProgressStyle(description_width='…"
      ]
     },
     "metadata": {},
     "output_type": "display_data"
    },
    {
     "name": "stdout",
     "output_type": "stream",
     "text": [
      "\n",
      "\n",
      "Epoch     6\n",
      "Train_cost  = 0.3541 | Test_cost  = 0.3440 | Train_score = 0.8719 | Test_score = 0.8709 |\n"
     ]
    },
    {
     "data": {
      "application/vnd.jupyter.widget-view+json": {
       "model_id": "4dec7c8d49a94836b28ba7ceeb6f310d",
       "version_major": 2,
       "version_minor": 0
      },
      "text/plain": [
       "HBox(children=(FloatProgress(value=0.0, description='Train', max=313.0, style=ProgressStyle(description_width=…"
      ]
     },
     "metadata": {},
     "output_type": "display_data"
    },
    {
     "name": "stdout",
     "output_type": "stream",
     "text": [
      "\n"
     ]
    },
    {
     "data": {
      "application/vnd.jupyter.widget-view+json": {
       "model_id": "066fc07d238746878ad9c5d22ad313bf",
       "version_major": 2,
       "version_minor": 0
      },
      "text/plain": [
       "HBox(children=(FloatProgress(value=0.0, description='Test', max=157.0, style=ProgressStyle(description_width='…"
      ]
     },
     "metadata": {},
     "output_type": "display_data"
    },
    {
     "name": "stdout",
     "output_type": "stream",
     "text": [
      "\n",
      "\n",
      "Epoch     7\n",
      "Train_cost  = 0.3392 | Test_cost  = 0.3279 | Train_score = 0.8784 | Test_score = 0.8804 |\n"
     ]
    },
    {
     "data": {
      "application/vnd.jupyter.widget-view+json": {
       "model_id": "6d39eed3e2064dbd9fe1d978697c90fa",
       "version_major": 2,
       "version_minor": 0
      },
      "text/plain": [
       "HBox(children=(FloatProgress(value=0.0, description='Train', max=313.0, style=ProgressStyle(description_width=…"
      ]
     },
     "metadata": {},
     "output_type": "display_data"
    },
    {
     "name": "stdout",
     "output_type": "stream",
     "text": [
      "\n"
     ]
    },
    {
     "data": {
      "application/vnd.jupyter.widget-view+json": {
       "model_id": "35c3460097a242e59119ccf51788211b",
       "version_major": 2,
       "version_minor": 0
      },
      "text/plain": [
       "HBox(children=(FloatProgress(value=0.0, description='Test', max=157.0, style=ProgressStyle(description_width='…"
      ]
     },
     "metadata": {},
     "output_type": "display_data"
    },
    {
     "name": "stdout",
     "output_type": "stream",
     "text": [
      "\n",
      "\n",
      "Epoch     8\n",
      "Train_cost  = 0.3285 | Test_cost  = 0.3244 | Train_score = 0.8810 | Test_score = 0.8813 |\n"
     ]
    },
    {
     "data": {
      "application/vnd.jupyter.widget-view+json": {
       "model_id": "1e81629165844046a6250f62f4686414",
       "version_major": 2,
       "version_minor": 0
      },
      "text/plain": [
       "HBox(children=(FloatProgress(value=0.0, description='Train', max=313.0, style=ProgressStyle(description_width=…"
      ]
     },
     "metadata": {},
     "output_type": "display_data"
    },
    {
     "name": "stdout",
     "output_type": "stream",
     "text": [
      "\n"
     ]
    },
    {
     "data": {
      "application/vnd.jupyter.widget-view+json": {
       "model_id": "4916345d92af419d9f2984fdb606f470",
       "version_major": 2,
       "version_minor": 0
      },
      "text/plain": [
       "HBox(children=(FloatProgress(value=0.0, description='Test', max=157.0, style=ProgressStyle(description_width='…"
      ]
     },
     "metadata": {},
     "output_type": "display_data"
    },
    {
     "name": "stdout",
     "output_type": "stream",
     "text": [
      "\n",
      "\n",
      "Epoch     9\n",
      "Train_cost  = 0.3159 | Test_cost  = 0.3301 | Train_score = 0.8858 | Test_score = 0.8787 |\n",
      "\u001b[31m==> EarlyStop patience =  1 | Best test_score: 0.8813\u001b[0m\n"
     ]
    },
    {
     "data": {
      "application/vnd.jupyter.widget-view+json": {
       "model_id": "a8ee799d5bcb4019be259495716b7140",
       "version_major": 2,
       "version_minor": 0
      },
      "text/plain": [
       "HBox(children=(FloatProgress(value=0.0, description='Train', max=313.0, style=ProgressStyle(description_width=…"
      ]
     },
     "metadata": {},
     "output_type": "display_data"
    },
    {
     "name": "stdout",
     "output_type": "stream",
     "text": [
      "\n"
     ]
    },
    {
     "data": {
      "application/vnd.jupyter.widget-view+json": {
       "model_id": "c6f8addd61c140e7b819861629dfc5f2",
       "version_major": 2,
       "version_minor": 0
      },
      "text/plain": [
       "HBox(children=(FloatProgress(value=0.0, description='Test', max=157.0, style=ProgressStyle(description_width='…"
      ]
     },
     "metadata": {},
     "output_type": "display_data"
    },
    {
     "name": "stdout",
     "output_type": "stream",
     "text": [
      "\n",
      "\n",
      "Epoch    10\n",
      "Train_cost  = 0.3113 | Test_cost  = 0.3214 | Train_score = 0.8877 | Test_score = 0.8828 |\n"
     ]
    },
    {
     "data": {
      "application/vnd.jupyter.widget-view+json": {
       "model_id": "c503f0d967f24ae891f869fed09f1c62",
       "version_major": 2,
       "version_minor": 0
      },
      "text/plain": [
       "HBox(children=(FloatProgress(value=0.0, description='Train', max=313.0, style=ProgressStyle(description_width=…"
      ]
     },
     "metadata": {},
     "output_type": "display_data"
    },
    {
     "name": "stdout",
     "output_type": "stream",
     "text": [
      "\n"
     ]
    },
    {
     "data": {
      "application/vnd.jupyter.widget-view+json": {
       "model_id": "ebcacc919f034bf99dc7843fa8dac6d5",
       "version_major": 2,
       "version_minor": 0
      },
      "text/plain": [
       "HBox(children=(FloatProgress(value=0.0, description='Test', max=157.0, style=ProgressStyle(description_width='…"
      ]
     },
     "metadata": {},
     "output_type": "display_data"
    },
    {
     "name": "stdout",
     "output_type": "stream",
     "text": [
      "\n",
      "\n",
      "Epoch    11\n",
      "Train_cost  = 0.2975 | Test_cost  = 0.3123 | Train_score = 0.8916 | Test_score = 0.8854 |\n"
     ]
    },
    {
     "data": {
      "application/vnd.jupyter.widget-view+json": {
       "model_id": "3e79a3d6bc1b4e0e9e53b6efe8add16b",
       "version_major": 2,
       "version_minor": 0
      },
      "text/plain": [
       "HBox(children=(FloatProgress(value=0.0, description='Train', max=313.0, style=ProgressStyle(description_width=…"
      ]
     },
     "metadata": {},
     "output_type": "display_data"
    },
    {
     "name": "stdout",
     "output_type": "stream",
     "text": [
      "\n"
     ]
    },
    {
     "data": {
      "application/vnd.jupyter.widget-view+json": {
       "model_id": "09dc57ae779342f2aad004a2dc6b7865",
       "version_major": 2,
       "version_minor": 0
      },
      "text/plain": [
       "HBox(children=(FloatProgress(value=0.0, description='Test', max=157.0, style=ProgressStyle(description_width='…"
      ]
     },
     "metadata": {},
     "output_type": "display_data"
    },
    {
     "name": "stdout",
     "output_type": "stream",
     "text": [
      "\n",
      "\n",
      "Epoch    12\n",
      "Train_cost  = 0.2925 | Test_cost  = 0.3119 | Train_score = 0.8940 | Test_score = 0.8873 |\n"
     ]
    },
    {
     "data": {
      "application/vnd.jupyter.widget-view+json": {
       "model_id": "0deba110213647e5ac45c0ffaf8314fa",
       "version_major": 2,
       "version_minor": 0
      },
      "text/plain": [
       "HBox(children=(FloatProgress(value=0.0, description='Train', max=313.0, style=ProgressStyle(description_width=…"
      ]
     },
     "metadata": {},
     "output_type": "display_data"
    },
    {
     "name": "stdout",
     "output_type": "stream",
     "text": [
      "\n"
     ]
    },
    {
     "data": {
      "application/vnd.jupyter.widget-view+json": {
       "model_id": "16b5a5169c7f49af96204af37f9cb804",
       "version_major": 2,
       "version_minor": 0
      },
      "text/plain": [
       "HBox(children=(FloatProgress(value=0.0, description='Test', max=157.0, style=ProgressStyle(description_width='…"
      ]
     },
     "metadata": {},
     "output_type": "display_data"
    },
    {
     "name": "stdout",
     "output_type": "stream",
     "text": [
      "\n",
      "\n",
      "Epoch    13\n",
      "Train_cost  = 0.2867 | Test_cost  = 0.3192 | Train_score = 0.8946 | Test_score = 0.8844 |\n",
      "\u001b[31m==> EarlyStop patience =  1 | Best test_score: 0.8873\u001b[0m\n"
     ]
    },
    {
     "data": {
      "application/vnd.jupyter.widget-view+json": {
       "model_id": "dbc3c7a2dea349aab532f1bf2f5922ad",
       "version_major": 2,
       "version_minor": 0
      },
      "text/plain": [
       "HBox(children=(FloatProgress(value=0.0, description='Train', max=313.0, style=ProgressStyle(description_width=…"
      ]
     },
     "metadata": {},
     "output_type": "display_data"
    },
    {
     "name": "stdout",
     "output_type": "stream",
     "text": [
      "\n"
     ]
    },
    {
     "data": {
      "application/vnd.jupyter.widget-view+json": {
       "model_id": "7973b7e13fd54dda9d9db24e4519f128",
       "version_major": 2,
       "version_minor": 0
      },
      "text/plain": [
       "HBox(children=(FloatProgress(value=0.0, description='Test', max=157.0, style=ProgressStyle(description_width='…"
      ]
     },
     "metadata": {},
     "output_type": "display_data"
    },
    {
     "name": "stdout",
     "output_type": "stream",
     "text": [
      "\n",
      "\n",
      "Epoch    14\n",
      "Train_cost  = 0.2796 | Test_cost  = 0.3278 | Train_score = 0.8983 | Test_score = 0.8793 |\n",
      "\u001b[31m==> EarlyStop patience =  2 | Best test_score: 0.8873\u001b[0m\n"
     ]
    },
    {
     "data": {
      "application/vnd.jupyter.widget-view+json": {
       "model_id": "ec13cc10d1204778a4082b1b440bfab5",
       "version_major": 2,
       "version_minor": 0
      },
      "text/plain": [
       "HBox(children=(FloatProgress(value=0.0, description='Train', max=313.0, style=ProgressStyle(description_width=…"
      ]
     },
     "metadata": {},
     "output_type": "display_data"
    },
    {
     "name": "stdout",
     "output_type": "stream",
     "text": [
      "\n"
     ]
    },
    {
     "data": {
      "application/vnd.jupyter.widget-view+json": {
       "model_id": "59808dafccbe4d96b75aaef98938b10e",
       "version_major": 2,
       "version_minor": 0
      },
      "text/plain": [
       "HBox(children=(FloatProgress(value=0.0, description='Test', max=157.0, style=ProgressStyle(description_width='…"
      ]
     },
     "metadata": {},
     "output_type": "display_data"
    },
    {
     "name": "stdout",
     "output_type": "stream",
     "text": [
      "\n",
      "\n",
      "Epoch    15\n",
      "Train_cost  = 0.2725 | Test_cost  = 0.3092 | Train_score = 0.8994 | Test_score = 0.8890 |\n"
     ]
    },
    {
     "data": {
      "application/vnd.jupyter.widget-view+json": {
       "model_id": "f48e6a26c8e1447c8dd2c5de6c38f82e",
       "version_major": 2,
       "version_minor": 0
      },
      "text/plain": [
       "HBox(children=(FloatProgress(value=0.0, description='Train', max=313.0, style=ProgressStyle(description_width=…"
      ]
     },
     "metadata": {},
     "output_type": "display_data"
    },
    {
     "name": "stdout",
     "output_type": "stream",
     "text": [
      "\n"
     ]
    },
    {
     "data": {
      "application/vnd.jupyter.widget-view+json": {
       "model_id": "107d938ed75543d39b1c9f9ad5528f8b",
       "version_major": 2,
       "version_minor": 0
      },
      "text/plain": [
       "HBox(children=(FloatProgress(value=0.0, description='Test', max=157.0, style=ProgressStyle(description_width='…"
      ]
     },
     "metadata": {},
     "output_type": "display_data"
    },
    {
     "name": "stdout",
     "output_type": "stream",
     "text": [
      "\n",
      "\n",
      "Epoch    16\n",
      "Train_cost  = 0.2658 | Test_cost  = 0.3123 | Train_score = 0.9014 | Test_score = 0.8848 |\n",
      "\u001b[31m==> EarlyStop patience =  1 | Best test_score: 0.8890\u001b[0m\n"
     ]
    },
    {
     "data": {
      "application/vnd.jupyter.widget-view+json": {
       "model_id": "3a0fc08173234f4a83704efd0a95e24e",
       "version_major": 2,
       "version_minor": 0
      },
      "text/plain": [
       "HBox(children=(FloatProgress(value=0.0, description='Train', max=313.0, style=ProgressStyle(description_width=…"
      ]
     },
     "metadata": {},
     "output_type": "display_data"
    },
    {
     "name": "stdout",
     "output_type": "stream",
     "text": [
      "\n"
     ]
    },
    {
     "data": {
      "application/vnd.jupyter.widget-view+json": {
       "model_id": "2657bdc5da5b4d0f996e3d8361895a14",
       "version_major": 2,
       "version_minor": 0
      },
      "text/plain": [
       "HBox(children=(FloatProgress(value=0.0, description='Test', max=157.0, style=ProgressStyle(description_width='…"
      ]
     },
     "metadata": {},
     "output_type": "display_data"
    },
    {
     "name": "stdout",
     "output_type": "stream",
     "text": [
      "\n",
      "\n",
      "Epoch    17\n",
      "Train_cost  = 0.2658 | Test_cost  = 0.3222 | Train_score = 0.9023 | Test_score = 0.8840 |\n",
      "\u001b[31m==> EarlyStop patience =  2 | Best test_score: 0.8890\u001b[0m\n"
     ]
    },
    {
     "data": {
      "application/vnd.jupyter.widget-view+json": {
       "model_id": "a3c0cc187d1f42e9b861ec00fa98d8e0",
       "version_major": 2,
       "version_minor": 0
      },
      "text/plain": [
       "HBox(children=(FloatProgress(value=0.0, description='Train', max=313.0, style=ProgressStyle(description_width=…"
      ]
     },
     "metadata": {},
     "output_type": "display_data"
    },
    {
     "name": "stdout",
     "output_type": "stream",
     "text": [
      "\n"
     ]
    },
    {
     "data": {
      "application/vnd.jupyter.widget-view+json": {
       "model_id": "6a6391e5f4424b969fb52b5b8aa01768",
       "version_major": 2,
       "version_minor": 0
      },
      "text/plain": [
       "HBox(children=(FloatProgress(value=0.0, description='Test', max=157.0, style=ProgressStyle(description_width='…"
      ]
     },
     "metadata": {},
     "output_type": "display_data"
    },
    {
     "name": "stdout",
     "output_type": "stream",
     "text": [
      "\n",
      "\n",
      "Epoch    18\n",
      "Train_cost  = 0.2564 | Test_cost  = 0.3043 | Train_score = 0.9054 | Test_score = 0.8894 |\n"
     ]
    },
    {
     "data": {
      "application/vnd.jupyter.widget-view+json": {
       "model_id": "be5620aad9444d0f9ab5b40b9b98b153",
       "version_major": 2,
       "version_minor": 0
      },
      "text/plain": [
       "HBox(children=(FloatProgress(value=0.0, description='Train', max=313.0, style=ProgressStyle(description_width=…"
      ]
     },
     "metadata": {},
     "output_type": "display_data"
    },
    {
     "name": "stdout",
     "output_type": "stream",
     "text": [
      "\n"
     ]
    },
    {
     "data": {
      "application/vnd.jupyter.widget-view+json": {
       "model_id": "8343246ace5b4aaab01cbc1b1e195a9b",
       "version_major": 2,
       "version_minor": 0
      },
      "text/plain": [
       "HBox(children=(FloatProgress(value=0.0, description='Test', max=157.0, style=ProgressStyle(description_width='…"
      ]
     },
     "metadata": {},
     "output_type": "display_data"
    },
    {
     "name": "stdout",
     "output_type": "stream",
     "text": [
      "\n",
      "\n",
      "Epoch    19\n",
      "Train_cost  = 0.2532 | Test_cost  = 0.3317 | Train_score = 0.9068 | Test_score = 0.8790 |\n",
      "\u001b[31m==> EarlyStop patience =  1 | Best test_score: 0.8894\u001b[0m\n"
     ]
    },
    {
     "data": {
      "application/vnd.jupyter.widget-view+json": {
       "model_id": "9aabb721947e4e91872302cd2dc64f0c",
       "version_major": 2,
       "version_minor": 0
      },
      "text/plain": [
       "HBox(children=(FloatProgress(value=0.0, description='Train', max=313.0, style=ProgressStyle(description_width=…"
      ]
     },
     "metadata": {},
     "output_type": "display_data"
    },
    {
     "name": "stdout",
     "output_type": "stream",
     "text": [
      "\n"
     ]
    },
    {
     "data": {
      "application/vnd.jupyter.widget-view+json": {
       "model_id": "993f5e48dda14cc8b182a90d1e04c83d",
       "version_major": 2,
       "version_minor": 0
      },
      "text/plain": [
       "HBox(children=(FloatProgress(value=0.0, description='Test', max=157.0, style=ProgressStyle(description_width='…"
      ]
     },
     "metadata": {},
     "output_type": "display_data"
    },
    {
     "name": "stdout",
     "output_type": "stream",
     "text": [
      "\n",
      "\n",
      "Epoch    20\n",
      "Train_cost  = 0.2496 | Test_cost  = 0.3006 | Train_score = 0.9061 | Test_score = 0.8918 |\n"
     ]
    },
    {
     "data": {
      "image/png": "[encoded data removed]",
      "text/plain": [
       "<Figure size 576x360 with 1 Axes>"
      ]
     },
     "metadata": {
      "needs_background": "light"
     },
     "output_type": "display_data"
    },
    {
     "data": {
      "image/png": "[encoded data removed]",
      "text/plain": [
       "<Figure size 576x360 with 1 Axes>"
      ]
     },
     "metadata": {
      "needs_background": "light"
     },
     "output_type": "display_data"
    },
    {
     "data": {
      "application/vnd.jupyter.widget-view+json": {
       "model_id": "db2146196b8a45e6b27d620448cb3475",
       "version_major": 2,
       "version_minor": 0
      },
      "text/plain": [
       "HBox(children=(FloatProgress(value=0.0, description='Train', max=313.0, style=ProgressStyle(description_width=…"
      ]
     },
     "metadata": {},
     "output_type": "display_data"
    },
    {
     "name": "stdout",
     "output_type": "stream",
     "text": [
      "\n"
     ]
    },
    {
     "data": {
      "application/vnd.jupyter.widget-view+json": {
       "model_id": "359d497eeeb442d788a9d790440a4a07",
       "version_major": 2,
       "version_minor": 0
      },
      "text/plain": [
       "HBox(children=(FloatProgress(value=0.0, description='Test', max=157.0, style=ProgressStyle(description_width='…"
      ]
     },
     "metadata": {},
     "output_type": "display_data"
    },
    {
     "name": "stdout",
     "output_type": "stream",
     "text": [
      "\n",
      "\n",
      "Epoch    21\n",
      "Train_cost  = 0.2446 | Test_cost  = 0.3111 | Train_score = 0.9095 | Test_score = 0.8890 |\n",
      "\u001b[31m==> EarlyStop patience =  1 | Best test_score: 0.8918\u001b[0m\n"
     ]
    },
    {
     "data": {
      "application/vnd.jupyter.widget-view+json": {
       "model_id": "97bb6a51769343e3b0e3d76012e6200e",
       "version_major": 2,
       "version_minor": 0
      },
      "text/plain": [
       "HBox(children=(FloatProgress(value=0.0, description='Train', max=313.0, style=ProgressStyle(description_width=…"
      ]
     },
     "metadata": {},
     "output_type": "display_data"
    },
    {
     "name": "stdout",
     "output_type": "stream",
     "text": [
      "\n"
     ]
    },
    {
     "data": {
      "application/vnd.jupyter.widget-view+json": {
       "model_id": "1f885bb9c4874457a369387238e17cfa",
       "version_major": 2,
       "version_minor": 0
      },
      "text/plain": [
       "HBox(children=(FloatProgress(value=0.0, description='Test', max=157.0, style=ProgressStyle(description_width='…"
      ]
     },
     "metadata": {},
     "output_type": "display_data"
    },
    {
     "name": "stdout",
     "output_type": "stream",
     "text": [
      "\n",
      "\n",
      "Epoch    22\n",
      "Train_cost  = 0.2391 | Test_cost  = 0.3334 | Train_score = 0.9109 | Test_score = 0.8833 |\n",
      "\u001b[31m==> EarlyStop patience =  2 | Best test_score: 0.8918\u001b[0m\n"
     ]
    },
    {
     "data": {
      "application/vnd.jupyter.widget-view+json": {
       "model_id": "be29f3bdb6554e31b6fe6bdadc11536f",
       "version_major": 2,
       "version_minor": 0
      },
      "text/plain": [
       "HBox(children=(FloatProgress(value=0.0, description='Train', max=313.0, style=ProgressStyle(description_width=…"
      ]
     },
     "metadata": {},
     "output_type": "display_data"
    },
    {
     "name": "stdout",
     "output_type": "stream",
     "text": [
      "\n"
     ]
    },
    {
     "data": {
      "application/vnd.jupyter.widget-view+json": {
       "model_id": "18b93ff3a0e141aabce679bc05a56d8d",
       "version_major": 2,
       "version_minor": 0
      },
      "text/plain": [
       "HBox(children=(FloatProgress(value=0.0, description='Test', max=157.0, style=ProgressStyle(description_width='…"
      ]
     },
     "metadata": {},
     "output_type": "display_data"
    },
    {
     "name": "stdout",
     "output_type": "stream",
     "text": [
      "\n",
      "\n",
      "Epoch    23\n",
      "Train_cost  = 0.2360 | Test_cost  = 0.3094 | Train_score = 0.9115 | Test_score = 0.8921 |\n"
     ]
    },
    {
     "data": {
      "application/vnd.jupyter.widget-view+json": {
       "model_id": "e9c6b97bc3e94fa182b83be543a03875",
       "version_major": 2,
       "version_minor": 0
      },
      "text/plain": [
       "HBox(children=(FloatProgress(value=0.0, description='Train', max=313.0, style=ProgressStyle(description_width=…"
      ]
     },
     "metadata": {},
     "output_type": "display_data"
    },
    {
     "name": "stdout",
     "output_type": "stream",
     "text": [
      "\n"
     ]
    },
    {
     "data": {
      "application/vnd.jupyter.widget-view+json": {
       "model_id": "c6a7c081bcfd4ab497e83d4ad3107bd3",
       "version_major": 2,
       "version_minor": 0
      },
      "text/plain": [
       "HBox(children=(FloatProgress(value=0.0, description='Test', max=157.0, style=ProgressStyle(description_width='…"
      ]
     },
     "metadata": {},
     "output_type": "display_data"
    },
    {
     "name": "stdout",
     "output_type": "stream",
     "text": [
      "\n",
      "\n",
      "Epoch    24\n",
      "Train_cost  = 0.2271 | Test_cost  = 0.3202 | Train_score = 0.9153 | Test_score = 0.8873 |\n",
      "\u001b[31m==> EarlyStop patience =  1 | Best test_score: 0.8921\u001b[0m\n"
     ]
    },
    {
     "data": {
      "application/vnd.jupyter.widget-view+json": {
       "model_id": "9f6dc58c25f4403fb91b2063eff5ac1a",
       "version_major": 2,
       "version_minor": 0
      },
      "text/plain": [
       "HBox(children=(FloatProgress(value=0.0, description='Train', max=313.0, style=ProgressStyle(description_width=…"
      ]
     },
     "metadata": {},
     "output_type": "display_data"
    },
    {
     "name": "stdout",
     "output_type": "stream",
     "text": [
      "\n"
     ]
    },
    {
     "data": {
      "application/vnd.jupyter.widget-view+json": {
       "model_id": "be3adbafa6074a2b8d693c0ef72243c2",
       "version_major": 2,
       "version_minor": 0
      },
      "text/plain": [
       "HBox(children=(FloatProgress(value=0.0, description='Test', max=157.0, style=ProgressStyle(description_width='…"
      ]
     },
     "metadata": {},
     "output_type": "display_data"
    },
    {
     "name": "stdout",
     "output_type": "stream",
     "text": [
      "\n",
      "\n",
      "Epoch    25\n",
      "Train_cost  = 0.2286 | Test_cost  = 0.3213 | Train_score = 0.9151 | Test_score = 0.8897 |\n",
      "\u001b[31m==> EarlyStop patience =  2 | Best test_score: 0.8921\u001b[0m\n"
     ]
    },
    {
     "data": {
      "application/vnd.jupyter.widget-view+json": {
       "model_id": "ae51148b8d8c4e8ead8d49032538ed2d",
       "version_major": 2,
       "version_minor": 0
      },
      "text/plain": [
       "HBox(children=(FloatProgress(value=0.0, description='Train', max=313.0, style=ProgressStyle(description_width=…"
      ]
     },
     "metadata": {},
     "output_type": "display_data"
    },
    {
     "name": "stdout",
     "output_type": "stream",
     "text": [
      "\n"
     ]
    },
    {
     "data": {
      "application/vnd.jupyter.widget-view+json": {
       "model_id": "7b4192ae51a64c11ba7f3ecb8e2e15f2",
       "version_major": 2,
       "version_minor": 0
      },
      "text/plain": [
       "HBox(children=(FloatProgress(value=0.0, description='Test', max=157.0, style=ProgressStyle(description_width='…"
      ]
     },
     "metadata": {},
     "output_type": "display_data"
    },
    {
     "name": "stdout",
     "output_type": "stream",
     "text": [
      "\n",
      "\n",
      "Epoch    26\n",
      "Train_cost  = 0.2241 | Test_cost  = 0.3165 | Train_score = 0.9147 | Test_score = 0.8901 |\n",
      "\u001b[31m==> EarlyStop patience =  3 | Best test_score: 0.8921\u001b[0m\n"
     ]
    },
    {
     "data": {
      "application/vnd.jupyter.widget-view+json": {
       "model_id": "eab71f629b84412297a301ee080b1a06",
       "version_major": 2,
       "version_minor": 0
      },
      "text/plain": [
       "HBox(children=(FloatProgress(value=0.0, description='Train', max=313.0, style=ProgressStyle(description_width=…"
      ]
     },
     "metadata": {},
     "output_type": "display_data"
    },
    {
     "name": "stdout",
     "output_type": "stream",
     "text": [
      "\n"
     ]
    },
    {
     "data": {
      "application/vnd.jupyter.widget-view+json": {
       "model_id": "36f3dc5714de4b45ad60c666b6fd014b",
       "version_major": 2,
       "version_minor": 0
      },
      "text/plain": [
       "HBox(children=(FloatProgress(value=0.0, description='Test', max=157.0, style=ProgressStyle(description_width='…"
      ]
     },
     "metadata": {},
     "output_type": "display_data"
    },
    {
     "name": "stdout",
     "output_type": "stream",
     "text": [
      "\n",
      "\n",
      "Epoch    27\n",
      "Train_cost  = 0.2232 | Test_cost  = 0.3058 | Train_score = 0.9176 | Test_score = 0.8915 |\n",
      "\u001b[31m==> EarlyStop patience =  4 | Best test_score: 0.8921\u001b[0m\n"
     ]
    },
    {
     "data": {
      "application/vnd.jupyter.widget-view+json": {
       "model_id": "1f65472bb59a430a9be418af8cd8d2f0",
       "version_major": 2,
       "version_minor": 0
      },
      "text/plain": [
       "HBox(children=(FloatProgress(value=0.0, description='Train', max=313.0, style=ProgressStyle(description_width=…"
      ]
     },
     "metadata": {},
     "output_type": "display_data"
    },
    {
     "name": "stdout",
     "output_type": "stream",
     "text": [
      "\n"
     ]
    },
    {
     "data": {
      "application/vnd.jupyter.widget-view+json": {
       "model_id": "b7d1459b2f2f49c39a46528c789be209",
       "version_major": 2,
       "version_minor": 0
      },
      "text/plain": [
       "HBox(children=(FloatProgress(value=0.0, description='Test', max=157.0, style=ProgressStyle(description_width='…"
      ]
     },
     "metadata": {},
     "output_type": "display_data"
    },
    {
     "name": "stdout",
     "output_type": "stream",
     "text": [
      "\n",
      "\n",
      "Epoch    28\n",
      "Train_cost  = 0.2177 | Test_cost  = 0.3113 | Train_score = 0.9188 | Test_score = 0.8921 |\n",
      "\u001b[31m==> EarlyStop patience =  5 | Best test_score: 0.8921\u001b[0m\n",
      "\u001b[31m==> Execute Early Stopping at epoch: 28 | Best test_score: 0.8921\u001b[0m\n",
      "\u001b[31m==> Best model is saved at model\u001b[0m\n"
     ]
    },
    {
     "data": {
      "image/png": "[encoded data removed]",
      "text/plain": [
       "<Figure size 576x360 with 1 Axes>"
      ]
     },
     "metadata": {
      "needs_background": "light"
     },
     "output_type": "display_data"
    },
    {
     "data": {
      "image/png": "[encoded data removed]",
      "text/plain": [
       "<Figure size 576x360 with 1 Axes>"
      ]
     },
     "metadata": {
      "needs_background": "light"
     },
     "output_type": "display_data"
    }
   ],
   "source": [
    "while True:\n",
    "    train_cost, train_score = loop_fn(\"train\", train_set, trainloader, model, criterion, optimizer, device)\n",
    "    with torch.no_grad():\n",
    "        test_cost, test_score = loop_fn(\"test\", test_set, testloader, model, criterion, optimizer, device)\n",
    "        \n",
    "    # Logging\n",
    "    callback.log(train_cost, test_cost, train_score, test_score)\n",
    "    \n",
    "    #Checkpoint\n",
    "    callback.save_checkpoint()\n",
    "    \n",
    "    # Runtime Plotting\n",
    "    callback.cost_runtime_plotting()\n",
    "    callback.score_runtime_plotting()\n",
    "    \n",
    "    # Early Stopping\n",
    "    if callback.early_stopping(model, monitor=\"test_score\"):\n",
    "        callback.plot_cost()\n",
    "        callback.plot_score()\n",
    "        break\n",
    "    "
   ]
  },
  {
   "cell_type": "markdown",
   "id": "31ba394e",
   "metadata": {},
   "source": [
    "## Load Best Model"
   ]
  },
  {
   "cell_type": "code",
   "execution_count": 14,
   "id": "b94979e9",
   "metadata": {},
   "outputs": [],
   "source": [
    "# weights = torch.load(\"model/weights_best.pth\", map_location=\"cpu\")\n",
    "# config = torch.load(\"model/configs.pth\", map_location=\"cpu\")\n",
    "\n",
    "# model = FashionClassifier(config.input_size, config.n1, config.n2, config.output_size, config.dropout)\n",
    "# model.load_state_dict(weights)\n",
    "# model = model.to(device)"
   ]
  },
  {
   "cell_type": "code",
   "execution_count": 15,
   "id": "e20d607f",
   "metadata": {},
   "outputs": [
    {
     "data": {
      "text/plain": [
       "FashionClassifier(\n",
       "  (fc): Sequential(\n",
       "    (0): Flatten()\n",
       "    (1): Sequential(\n",
       "      (0): Linear(in_features=784, out_features=256, bias=True)\n",
       "      (1): ReLU()\n",
       "      (2): Dropout(p=0.2, inplace=False)\n",
       "    )\n",
       "    (2): Sequential(\n",
       "      (0): Linear(in_features=256, out_features=64, bias=True)\n",
       "      (1): ReLU()\n",
       "      (2): Dropout(p=0.2, inplace=False)\n",
       "    )\n",
       "    (3): Sequential(\n",
       "      (0): Linear(in_features=64, out_features=10, bias=True)\n",
       "      (1): LogSoftmax()\n",
       "    )\n",
       "  )\n",
       ")"
      ]
     },
     "execution_count": 15,
     "metadata": {},
     "output_type": "execute_result"
    }
   ],
   "source": [
    "model"
   ]
  },
  {
   "cell_type": "markdown",
   "id": "55d7d9e2",
   "metadata": {},
   "source": [
    "## Predict"
   ]
  },
  {
   "cell_type": "code",
   "execution_count": 16,
   "id": "a8a474f5",
   "metadata": {},
   "outputs": [],
   "source": [
    "feature, target = next(iter(testloader))\n",
    "feature, target = feature.to(device), target.to(device)"
   ]
  },
  {
   "cell_type": "code",
   "execution_count": 17,
   "id": "d2dda80e",
   "metadata": {},
   "outputs": [
    {
     "data": {
      "text/plain": [
       "tensor([1, 8, 1, 0, 3, 4, 0, 4, 0, 8, 2, 3, 9, 8, 8, 3, 2, 2, 5, 9, 0, 7, 3, 1,\n",
       "        2, 1, 2, 0, 8, 8, 7, 8, 9, 9, 9, 5, 1, 0, 8, 6, 1, 9, 3, 6, 9, 6, 5, 7,\n",
       "        7, 3, 4, 8, 3, 8, 1, 3, 3, 2, 9, 4, 8, 9, 7, 0, 7, 2, 9, 2, 3, 7, 9, 2,\n",
       "        2, 8, 2, 7, 1, 9, 9, 5, 4, 2, 6, 7, 6, 9, 0, 7, 7, 5, 7, 8, 6, 1, 5, 0,\n",
       "        2, 4, 4, 2, 2, 1, 5, 0, 0, 2, 1, 0, 4, 9, 4, 6, 9, 8, 3, 6, 4, 3, 1, 1,\n",
       "        3, 7, 3, 8, 1, 4, 6, 1])"
      ]
     },
     "execution_count": 17,
     "metadata": {},
     "output_type": "execute_result"
    }
   ],
   "source": [
    "with torch.no_grad():\n",
    "    model.eval()\n",
    "    output = model(feature)\n",
    "    preds = output.argmax(1)\n",
    "[train2cat[preds] for pred in preds]"
   ]
  },
  {
   "cell_type": "code",
   "execution_count": 26,
   "id": "c6e1e097",
   "metadata": {},
   "outputs": [
    {
     "data": {
      "text/plain": [
       "['Ankle boot',\n",
       " 'Bag',\n",
       " 'Coat',\n",
       " 'Dress',\n",
       " 'Pullover',\n",
       " 'Sandal',\n",
       " 'Shirt',\n",
       " 'Sneaker',\n",
       " 'T-shirt or Top',\n",
       " 'Trouser']"
      ]
     },
     "execution_count": 26,
     "metadata": {},
     "output_type": "execute_result"
    }
   ],
   "source": [
    "label2cat"
   ]
  },
  {
   "cell_type": "markdown",
   "id": "217437de",
   "metadata": {},
   "source": [
    "## Visualized"
   ]
  },
  {
   "cell_type": "code",
   "execution_count": 23,
   "id": "c19f3f7d",
   "metadata": {},
   "outputs": [],
   "source": [
    "import matplotlib.pyplot as plt"
   ]
  },
  {
   "cell_type": "code",
   "execution_count": 28,
   "id": "04cbd608",
   "metadata": {
    "scrolled": true
   },
   "outputs": [
    {
     "data": {
      "image/png": "[encoded data removed]",
      "text/plain": [
       "<Figure size 1728x1728 with 36 Axes>"
      ]
     },
     "metadata": {
      "needs_background": "light"
     },
     "output_type": "display_data"
    }
   ],
   "source": [
    "fig, axes = plt.subplots(6, 6, figsize=(24, 24))\n",
    "for img, label, pred, ax in zip(feature, target, preds, axes.flatten()):\n",
    "    ax.imshow(img.view(28, 28).cpu(), cmap='gray')\n",
    "    font = {\"color\": 'r'} if label != pred else {\"color\": 'g'}\n",
    "    label, pred = label2cat[label.item()], label2cat[pred.item()]\n",
    "    ax.set_title(f\"label: {label} | Pred: {pred}\", fontdict=font);\n",
    "    ax.axis(\"off\");"
   ]
  },
  {
   "cell_type": "code",
   "execution_count": null,
   "id": "bfc012da",
   "metadata": {},
   "outputs": [],
   "source": []
  }
 ],
 "metadata": {
  "kernelspec": {
   "display_name": "Python 3",
   "language": "python",
   "name": "python3"
  },
  "language_info": {
   "codemirror_mode": {
    "name": "ipython",
    "version": 3
   },
   "file_extension": ".py",
   "mimetype": "text/x-python",
   "name": "python",
   "nbconvert_exporter": "python",
   "pygments_lexer": "ipython3",
   "version": "3.7.6"
  }
 },
 "nbformat": 4,
 "nbformat_minor": 5
}
